{
 "cells": [
  {
   "cell_type": "code",
   "execution_count": 1,
   "metadata": {},
   "outputs": [],
   "source": [
    "import pandas as pd\n",
    "import numpy as np\n",
    "import matplotlib.pyplot as plt\n",
    "import tensorflow as tf\n",
    "import sklearn\n",
    "import os"
   ]
  },
  {
   "cell_type": "code",
   "execution_count": 2,
   "metadata": {},
   "outputs": [],
   "source": [
    "df = pd.read_csv('raw data/stock_prices.csv')"
   ]
  },
  {
   "cell_type": "code",
   "execution_count": 3,
   "metadata": {},
   "outputs": [],
   "source": [
    "df.drop(labels=['AdjustmentFactor','ExpectedDividend', 'SupervisionFlag'], axis=1, inplace=True)"
   ]
  },
  {
   "cell_type": "code",
   "execution_count": 4,
   "metadata": {},
   "outputs": [
    {
     "data": {
      "text/plain": [
       "RowId                0\n",
       "Date                 0\n",
       "SecuritiesCode       0\n",
       "Open              7608\n",
       "High              7608\n",
       "Low               7608\n",
       "Close             7608\n",
       "Volume               0\n",
       "Target             238\n",
       "dtype: int64"
      ]
     },
     "execution_count": 4,
     "metadata": {},
     "output_type": "execute_result"
    }
   ],
   "source": [
    "df.isnull().sum()"
   ]
  },
  {
   "cell_type": "code",
   "execution_count": 5,
   "metadata": {},
   "outputs": [],
   "source": [
    "df2 = df.sort_values(['SecuritiesCode', 'Date'])"
   ]
  },
  {
   "cell_type": "code",
   "execution_count": 6,
   "metadata": {},
   "outputs": [],
   "source": [
    "start = 0\n",
    "end = 0\n",
    "secu_code = df2.iloc[start]['SecuritiesCode']\n",
    "for i in range(2332531):\n",
    "    if df2.iloc[i]['SecuritiesCode']!=secu_code:\n",
    "        end = i\n",
    "        temp_df = pd.DataFrame(df2.iloc[start:end])\n",
    "        temp_df.to_csv('processed data/'+str(secu_code)+'.csv', index = False)\n",
    "        #print('%d length: %d'%(secu_code, start-end))\n",
    "        start = i\n",
    "        secu_code = df2.iloc[start]['SecuritiesCode']\n",
    "\n",
    "temp_df = pd.DataFrame(df2.iloc[start:])\n",
    "temp_df.to_csv('processed data/'+str(secu_code)+'.csv', index = False)"
   ]
  },
  {
   "cell_type": "code",
   "execution_count": 7,
   "metadata": {},
   "outputs": [],
   "source": [
    "def feature_processing(file_name):\n",
    "    df = pd.read_csv('processed data/' + file_name)\n",
    "    df['pClose'] = df['Close'].shift(1)\n",
    "    df['Return_Close'] = (df['Close'] - df['pClose'])/df['pClose'] \n",
    "    df['Return_Open'] = (df['Open'] - df['pClose'])/df['pClose']\n",
    "    df['Return_High'] = (df['High'] - df['pClose'])/df['pClose']\n",
    "    df['Return_Low'] = (df['Low'] - df['pClose'])/df['pClose']\n",
    "    df.drop(labels = ['RowId', 'SecuritiesCode', 'Open', 'High', 'Low', 'Close'], axis = 1, inplace = True)\n",
    "    df.fillna(0, inplace = True)\n",
    "    df.to_csv('train set/'+file_name, index=False)\n",
    "    "
   ]
  },
  {
   "cell_type": "code",
   "execution_count": 8,
   "metadata": {},
   "outputs": [],
   "source": [
    "sec_list = os.listdir('processed data')\n",
    "for sec_code in sec_list:\n",
    "    feature_processing(sec_code)"
   ]
  },
  {
   "cell_type": "code",
   "execution_count": 10,
   "metadata": {},
   "outputs": [
    {
     "name": "stdout",
     "output_type": "stream",
     "text": [
      "2000\n"
     ]
    }
   ],
   "source": [
    "sec_list = os.listdir('train set')\n",
    "print(len(sec_list))"
   ]
  },
  {
   "cell_type": "code",
   "execution_count": 11,
   "metadata": {},
   "outputs": [],
   "source": [
    "template_df = pd.read_csv('train set/9001.csv')"
   ]
  },
  {
   "cell_type": "code",
   "execution_count": 15,
   "metadata": {},
   "outputs": [],
   "source": [
    "def fill_date(file_name, template_df):\n",
    "    temp_df = template_df.copy(deep=True)\n",
    "    df = pd.read_csv('train set/'+file_name)\n",
    "    len_df = df.shape[0]\n",
    "    p1 = 0\n",
    "    p2 = 0\n",
    "    while(p1<1202 and p2<len_df):\n",
    "        if df.iloc[p2]['Date'] == temp_df.iloc[p1]['Date']:\n",
    "            temp_df.iloc[p1, df.columns.get_loc('Return_Close')] = df.iloc[p2]['Return_Close']\n",
    "            temp_df.iloc[p1, df.columns.get_loc('Return_Open')] = df.iloc[p2]['Return_Open']\n",
    "            temp_df.iloc[p1, df.columns.get_loc('Return_High')] = df.iloc[p2]['Return_High']\n",
    "            temp_df.iloc[p1, df.columns.get_loc('Return_Low')] = df.iloc[p2]['Return_Low']\n",
    "            temp_df.iloc[p1, df.columns.get_loc('Target')] = df.iloc[p2]['Target']\n",
    "            temp_df.iloc[p1, df.columns.get_loc('Volume')] = df.iloc[p2]['Volume']\n",
    "            p1+=1\n",
    "            p2+=1\n",
    "        else:\n",
    "            temp_df.iloc[p1, df.columns.get_loc('Return_Close')] = 0\n",
    "            temp_df.iloc[p1, df.columns.get_loc('Return_Open')] = 0\n",
    "            temp_df.iloc[p1, df.columns.get_loc('Return_High')] = 0\n",
    "            temp_df.iloc[p1, df.columns.get_loc('Return_Low')] = 0\n",
    "            temp_df.iloc[p1, df.columns.get_loc('Target')] = 0\n",
    "            temp_df.iloc[p1, df.columns.get_loc('Volume')] = 0\n",
    "            p1+=1\n",
    "    while(p1<1202):\n",
    "        temp_df.iloc[p1, df.columns.get_loc('Return_Close')] = 0\n",
    "        temp_df.iloc[p1, df.columns.get_loc('Return_Open')] = 0\n",
    "        temp_df.iloc[p1, df.columns.get_loc('Return_High')] = 0\n",
    "        temp_df.iloc[p1, df.columns.get_loc('Return_Low')] = 0\n",
    "        temp_df.iloc[p1, df.columns.get_loc('Target')] = 0\n",
    "        temp_df.iloc[p1, df.columns.get_loc('Volume')] = 0\n",
    "        p1+=1\n",
    "    temp_df.to_csv('train set/'+file_name, index = False)"
   ]
  },
  {
   "cell_type": "code",
   "execution_count": 18,
   "metadata": {},
   "outputs": [
    {
     "name": "stdout",
     "output_type": "stream",
     "text": [
      "135\n"
     ]
    }
   ],
   "source": [
    "sec_list = os.listdir('train set')\n",
    "if '.ipynb_checkpoints' in sec_list:\n",
    "    sec_list.remove('.ipynb_checkpoints')\n",
    "short_list = []\n",
    "for sec_code in sec_list:\n",
    "    df = pd.read_csv('train set/'+sec_code)\n",
    "    if df.shape[0] < 1202:\n",
    "        short_list.append(sec_code)\n",
    "print(len(short_list))"
   ]
  },
  {
   "cell_type": "code",
   "execution_count": 19,
   "metadata": {},
   "outputs": [],
   "source": [
    "for sec_code in short_list:\n",
    "    fill_date(sec_code, template_df)"
   ]
  },
  {
   "cell_type": "code",
   "execution_count": 15,
   "metadata": {},
   "outputs": [
    {
     "name": "stdout",
     "output_type": "stream",
     "text": [
      "0\n"
     ]
    }
   ],
   "source": [
    "sec_list = os.listdir('train set')\n",
    "short_list = []\n",
    "for sec_code in sec_list:\n",
    "    df = pd.read_csv('train set/'+sec_code)\n",
    "    if df.shape[0] < 1202:\n",
    "        short_list.append(sec_code)\n",
    "print(len(short_list))"
   ]
  },
  {
   "cell_type": "code",
   "execution_count": null,
   "metadata": {},
   "outputs": [],
   "source": []
  }
 ],
 "metadata": {
  "kernelspec": {
   "display_name": "TensorflowGPU",
   "language": "python",
   "name": "tf_gpu"
  },
  "language_info": {
   "codemirror_mode": {
    "name": "ipython",
    "version": 3
   },
   "file_extension": ".py",
   "mimetype": "text/x-python",
   "name": "python",
   "nbconvert_exporter": "python",
   "pygments_lexer": "ipython3",
   "version": "3.7.4"
  }
 },
 "nbformat": 4,
 "nbformat_minor": 4
}
