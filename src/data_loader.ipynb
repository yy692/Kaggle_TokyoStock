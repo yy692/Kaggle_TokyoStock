{
 "cells": [
  {
   "cell_type": "code",
   "execution_count": 1,
   "metadata": {},
   "outputs": [],
   "source": [
    "import pandas as pd\n",
    "import numpy as np\n",
    "import os"
   ]
  },
  {
   "cell_type": "code",
   "execution_count": null,
   "metadata": {},
   "outputs": [],
   "source": [
    "def load_train_and_sup_file(read_path, save_path):\n",
    "    '''\n",
    "    Input:\n",
    "        read_path (str) where to read train/supplemental files\n",
    "        save_path (str) where to save the loaded price info for every stock\n",
    "    Output:\n",
    "        security_code_dic (dictionary) security code -> number of trading days\n",
    "    '''\n",
    "    if not os.path.exists(save_path):\n",
    "        os.makedirs(save_path)\n",
    "        \n",
    "    df = pd.read_csv(read_path)\n",
    "    df.drop(labels=['AdjustmentFactor','ExpectedDividend', 'SupervisionFlag'], axis=1, inplace=True)\n",
    "    df.drop(labels = ['RowId', 'Open', 'High', 'Low', 'Volume']\n",
    "    df.sort_values(['SecuritiesCode', 'Date'], inplace = True)\n",
    "    \n",
    "    security_code_list = {}\n",
    "    longest_days = 0\n",
    "    length = df.shape[0]\n",
    "    start = 0\n",
    "    end = 0\n",
    "    security_code = df.iloc[start]['SecuritiesCode']\n",
    "    for i in range(length):\n",
    "        if df.iloc[i]['SecuritiesCode']!=security_code:\n",
    "            end = i\n",
    "            security_code_list[security_code] = end-start\n",
    "            temp_df = pd.DataFrame(df.iloc[start:end])\n",
    "            temp_df.to_csv(save_path+str(security_code)+'.csv', index = False)\n",
    "            start = i\n",
    "            security_code = df.iloc[start]['SecuritiesCode']\n",
    "\n",
    "    security_code_list[security_code] = length-1-start\n",
    "    security_code_list.append(security_code)\n",
    "    temp_df = pd.DataFrame(df.iloc[start:])\n",
    "    temp_df.to_csv(save_path+str(security_code)+'.csv', index = False)\n",
    "    \n",
    "    return security_code_dic"
   ]
  },
  {
   "cell_type": "code",
   "execution_count": null,
   "metadata": {},
   "outputs": [],
   "source": [
    "def feature_processing(path, security_code_dic):\n",
    "    '''\n",
    "    Input:\n",
    "        path: (str) folder where the raw data (for each stock) are stored\n",
    "    '''\n",
    "    for security_code in security_code_dic:\n",
    "        df = pd.read_csv(save_path+str(security_code)+'.csv')\n",
    "        df['pClose'] = df['Close'].shift(1)\n",
    "        df['Return_Close'] = (df['Close'] - df['pClose'])/df['pClose'] \n",
    "        df.fillna(0, inplace = True)\n",
    "        df.to_csv(save_path+str(security_code)+'.csv', index=False)"
   ]
  },
  {
   "cell_type": "code",
   "execution_count": null,
   "metadata": {},
   "outputs": [],
   "source": [
    "def fill_date(file_name, template_df):\n",
    "    '''\n",
    "    Input:\n",
    "        file_name: (str) path to the file that need to be processed\n",
    "        template_df: (dataframe) longest stock info dataframe\n",
    "    '''\n",
    "    temp_df = template_df.copy(deep=True)\n",
    "    df = pd.read_csv(file_name)\n",
    "    len_df = df.shape[0]\n",
    "    p1 = 0\n",
    "    p2 = 0\n",
    "    while(p1<temp_df.shape[0] and p2<len_df):\n",
    "        if df.iloc[p2]['Date'] == temp_df.iloc[p1]['Date']:\n",
    "            temp_df.iloc[p1, df.columns.get_loc('Return_Close')] = df.iloc[p2]['Return_Close']\n",
    "            temp_df.iloc[p1, df.columns.get_loc('Return_Open')] = df.iloc[p2]['Return_Open']\n",
    "            temp_df.iloc[p1, df.columns.get_loc('Return_High')] = df.iloc[p2]['Return_High']\n",
    "            temp_df.iloc[p1, df.columns.get_loc('Return_Low')] = df.iloc[p2]['Return_Low']\n",
    "            temp_df.iloc[p1, df.columns.get_loc('Target')] = df.iloc[p2]['Target']\n",
    "            temp_df.iloc[p1, df.columns.get_loc('Volume')] = df.iloc[p2]['Volume']\n",
    "            p1+=1\n",
    "            p2+=1\n",
    "        else:\n",
    "            temp_df.iloc[p1, df.columns.get_loc('Return_Close')] = 0\n",
    "            temp_df.iloc[p1, df.columns.get_loc('Return_Open')] = 0\n",
    "            temp_df.iloc[p1, df.columns.get_loc('Return_High')] = 0\n",
    "            temp_df.iloc[p1, df.columns.get_loc('Return_Low')] = 0\n",
    "            temp_df.iloc[p1, df.columns.get_loc('Target')] = 0\n",
    "            temp_df.iloc[p1, df.columns.get_loc('Volume')] = 0\n",
    "            p1+=1\n",
    "    while(p1<temp_df.shape[0]):\n",
    "        temp_df.iloc[p1, df.columns.get_loc('Return_Close')] = 0\n",
    "        temp_df.iloc[p1, df.columns.get_loc('Return_Open')] = 0\n",
    "        temp_df.iloc[p1, df.columns.get_loc('Return_High')] = 0\n",
    "        temp_df.iloc[p1, df.columns.get_loc('Return_Low')] = 0\n",
    "        temp_df.iloc[p1, df.columns.get_loc('Target')] = 0\n",
    "        temp_df.iloc[p1, df.columns.get_loc('Volume')] = 0\n",
    "        p1+=1\n",
    "    temp_df.to_csv(file_name, index = False)"
   ]
  },
  {
   "cell_type": "code",
   "execution_count": null,
   "metadata": {},
   "outputs": [],
   "source": [
    "def fill_date_batch(path, security_code_list, longest_stock):\n",
    "    template_df = pd.read_csv(path+str(longest_stock)+'.csv')\n",
    "    for security_code in security_code_dic:\n",
    "        file_name = path+str(security_code)+'.csv'\n",
    "        "
   ]
  },
  {
   "cell_type": "code",
   "execution_count": null,
   "metadata": {},
   "outputs": [],
   "source": [
    "def concate_train_and_sup_files(train_path, sup_path, security_code_dic):\n",
    "    for secu_code in security_code_dic:\n",
    "        train_df = pd.read_csv(train_path+str(secu_code)+'.csv')\n",
    "        sup_df = pd.read_csv(sup_path+str(secu_code)+'.csv')\n",
    "        "
   ]
  },
  {
   "cell_type": "code",
   "execution_count": null,
   "metadata": {},
   "outputs": [],
   "source": [
    "def preprocessing()"
   ]
  },
  {
   "cell_type": "code",
   "execution_count": null,
   "metadata": {},
   "outputs": [],
   "source": []
  }
 ],
 "metadata": {
  "kernelspec": {
   "display_name": "TensorflowGPU",
   "language": "python",
   "name": "tf_gpu"
  },
  "language_info": {
   "codemirror_mode": {
    "name": "ipython",
    "version": 3
   },
   "file_extension": ".py",
   "mimetype": "text/x-python",
   "name": "python",
   "nbconvert_exporter": "python",
   "pygments_lexer": "ipython3",
   "version": "3.7.4"
  }
 },
 "nbformat": 4,
 "nbformat_minor": 4
}
